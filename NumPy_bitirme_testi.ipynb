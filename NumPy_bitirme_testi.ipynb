{
  "cells": [
    {
      "cell_type": "markdown",
      "metadata": {
        "id": "f_4qrgnb7ktj"
      },
      "source": [
        "# NumPy Exercises\n",
        "\n",
        "Bu zamana kadar gördüğümüz konularla alakalı bilgilerimizi test edelim\n",
        "\n",
        "<div class=\"alert alert-danger\" style=\"margin: 10px\"><strong>Uyarı!</strong> Output'un üstündeki kod hücrelerini çalıştırmayın !, <br>Aksi takdirde notebooktaki cevap outputlarını kaybedebilirsiniz!</div>"
      ]
    },
    {
      "cell_type": "markdown",
      "metadata": {
        "id": "ZAQt9mfm7ktr"
      },
      "source": [
        "#### 1. NumPy kütüphanesi np kısaltması ile import edin"
      ]
    },
    {
      "cell_type": "code",
      "execution_count": 1,
      "metadata": {
        "collapsed": true,
        "id": "dJUSk3jr7kts"
      },
      "outputs": [],
      "source": [
        "import numpy as np"
      ]
    },
    {
      "cell_type": "markdown",
      "metadata": {
        "id": "RoSCtNV07ktt"
      },
      "source": [
        "#### 2. 10 tane 0 değerinden oluşan bir array oluşturun"
      ]
    },
    {
      "cell_type": "code",
      "execution_count": 3,
      "metadata": {
        "collapsed": true,
        "colab": {
          "base_uri": "https://localhost:8080/"
        },
        "id": "tfi6GGaR7ktu",
        "outputId": "784e176e-8db4-41ec-be08-fe8fbe1d69f2"
      },
      "outputs": [
        {
          "output_type": "execute_result",
          "data": {
            "text/plain": [
              "array([0., 0., 0., 0., 0., 0., 0., 0., 0., 0.])"
            ]
          },
          "metadata": {},
          "execution_count": 3
        }
      ],
      "source": [
        "arr1 = np.zeros(10)\n",
        "arr1"
      ]
    },
    {
      "cell_type": "code",
      "execution_count": null,
      "metadata": {
        "id": "AqsdTwM97ktv",
        "outputId": "a548938c-a10a-46d6-d47b-abab909adb59"
      },
      "outputs": [
        {
          "data": {
            "text/plain": [
              "array([0., 0., 0., 0., 0., 0., 0., 0., 0., 0.])"
            ]
          },
          "execution_count": 2,
          "metadata": {},
          "output_type": "execute_result"
        }
      ],
      "source": [
        "# Bu hücreye kod yazıp çalıştırma !"
      ]
    },
    {
      "cell_type": "markdown",
      "metadata": {
        "id": "uti041wj7ktx"
      },
      "source": [
        "#### 3. 10 tane 1 değerinden oluşan bir array oluşturun"
      ]
    },
    {
      "cell_type": "code",
      "execution_count": 4,
      "metadata": {
        "collapsed": true,
        "colab": {
          "base_uri": "https://localhost:8080/"
        },
        "id": "CqBV_Ci07kty",
        "outputId": "b3720c3a-73b2-40d1-b2d8-0c03adc9d218"
      },
      "outputs": [
        {
          "output_type": "execute_result",
          "data": {
            "text/plain": [
              "array([1., 1., 1., 1., 1., 1., 1., 1., 1., 1.])"
            ]
          },
          "metadata": {},
          "execution_count": 4
        }
      ],
      "source": [
        "arr2 = np.ones(10)\n",
        "arr2"
      ]
    },
    {
      "cell_type": "code",
      "execution_count": null,
      "metadata": {
        "id": "C3OmXmvP7kty",
        "outputId": "76168c9d-5d54-49cc-cd74-80c84885be93"
      },
      "outputs": [
        {
          "data": {
            "text/plain": [
              "array([1., 1., 1., 1., 1., 1., 1., 1., 1., 1.])"
            ]
          },
          "execution_count": 3,
          "metadata": {},
          "output_type": "execute_result"
        }
      ],
      "source": [
        "# Bu hücreye kod yazıp çalıştırma !"
      ]
    },
    {
      "cell_type": "markdown",
      "metadata": {
        "id": "y84EZNyl7ktz"
      },
      "source": [
        "#### 4. 10 tane 5 değerinden oluşan bir array oluşturun"
      ]
    },
    {
      "cell_type": "code",
      "execution_count": 5,
      "metadata": {
        "collapsed": true,
        "colab": {
          "base_uri": "https://localhost:8080/"
        },
        "id": "xI8BCMtD7ktz",
        "outputId": "48cbbc5c-684c-4e1f-a5a7-d2f22bcc3e08"
      },
      "outputs": [
        {
          "output_type": "execute_result",
          "data": {
            "text/plain": [
              "array([5., 5., 5., 5., 5., 5., 5., 5., 5., 5.])"
            ]
          },
          "metadata": {},
          "execution_count": 5
        }
      ],
      "source": [
        "arr3 = np.ones(10) * 5\n",
        "arr3"
      ]
    },
    {
      "cell_type": "code",
      "execution_count": null,
      "metadata": {
        "id": "9Wb8hgOk7kt0",
        "outputId": "03e22495-b08f-43da-a347-51a571969227"
      },
      "outputs": [
        {
          "data": {
            "text/plain": [
              "array([5., 5., 5., 5., 5., 5., 5., 5., 5., 5.])"
            ]
          },
          "execution_count": 4,
          "metadata": {},
          "output_type": "execute_result"
        }
      ],
      "source": [
        "# Bu hücreye kod yazıp çalıştırma !"
      ]
    },
    {
      "cell_type": "markdown",
      "metadata": {
        "id": "dIWGwPrY7kt0"
      },
      "source": [
        "#### 5. 10'dan 50'ye kadar(10 ve 50 dahil) ardışık tam sayılardan oluşan bir array oluşturalım"
      ]
    },
    {
      "cell_type": "code",
      "execution_count": 6,
      "metadata": {
        "collapsed": true,
        "colab": {
          "base_uri": "https://localhost:8080/"
        },
        "id": "KezSiCIM7kt1",
        "outputId": "e092d703-39fa-4beb-f9ee-fd2f51d384a0"
      },
      "outputs": [
        {
          "output_type": "execute_result",
          "data": {
            "text/plain": [
              "array([10, 11, 12, 13, 14, 15, 16, 17, 18, 19, 20, 21, 22, 23, 24, 25, 26,\n",
              "       27, 28, 29, 30, 31, 32, 33, 34, 35, 36, 37, 38, 39, 40, 41, 42, 43,\n",
              "       44, 45, 46, 47, 48, 49, 50])"
            ]
          },
          "metadata": {},
          "execution_count": 6
        }
      ],
      "source": [
        "arr4 = np.arange(10,51)\n",
        "arr4"
      ]
    },
    {
      "cell_type": "code",
      "execution_count": null,
      "metadata": {
        "id": "fm35vl-v7kt1",
        "outputId": "044b403f-93d2-4cc0-8a26-b245aa0997c1"
      },
      "outputs": [
        {
          "data": {
            "text/plain": [
              "array([10, 11, 12, 13, 14, 15, 16, 17, 18, 19, 20, 21, 22, 23, 24, 25, 26,\n",
              "       27, 28, 29, 30, 31, 32, 33, 34, 35, 36, 37, 38, 39, 40, 41, 42, 43,\n",
              "       44, 45, 46, 47, 48, 49, 50])"
            ]
          },
          "execution_count": 5,
          "metadata": {},
          "output_type": "execute_result"
        }
      ],
      "source": [
        "# Bu hücreye kod yazıp çalıştırma !"
      ]
    },
    {
      "cell_type": "markdown",
      "metadata": {
        "id": "-eO1kBBT7kt1"
      },
      "source": [
        "#### 6. 10 ve 50 arasındaki çift tam sayılardan oluşan bir array oluşturalım. (10 ve 50 dahil)"
      ]
    },
    {
      "cell_type": "code",
      "execution_count": 8,
      "metadata": {
        "collapsed": true,
        "colab": {
          "base_uri": "https://localhost:8080/"
        },
        "id": "P-G_lOWE7kt2",
        "outputId": "4ef8dd85-0a54-408f-be17-a824d1db97a8"
      },
      "outputs": [
        {
          "output_type": "execute_result",
          "data": {
            "text/plain": [
              "array([ 6,  8, 10, 12, 14, 16, 18, 20, 22, 24, 26, 28, 30, 32, 34, 36, 38,\n",
              "       40, 42, 44, 46, 48, 50])"
            ]
          },
          "metadata": {},
          "execution_count": 8
        }
      ],
      "source": [
        "arr5 = np.arange(6,51,2)\n",
        "arr5"
      ]
    },
    {
      "cell_type": "code",
      "execution_count": null,
      "metadata": {
        "id": "Fhund8hF7kt2",
        "outputId": "032eeee9-9be1-400d-a78e-0798db69e02c"
      },
      "outputs": [
        {
          "data": {
            "text/plain": [
              "array([10, 12, 14, 16, 18, 20, 22, 24, 26, 28, 30, 32, 34, 36, 38, 40, 42,\n",
              "       44, 46, 48, 50])"
            ]
          },
          "execution_count": 6,
          "metadata": {},
          "output_type": "execute_result"
        }
      ],
      "source": [
        "# Bu hücreye kod yazıp çalıştırma !"
      ]
    },
    {
      "cell_type": "markdown",
      "metadata": {
        "id": "ASKoJh5S7kt2"
      },
      "source": [
        "#### 7. 3x3 shape'inde 0'dan 8'e kadar toplam 9 tam sayıdan oluşan bir array oluşturalım"
      ]
    },
    {
      "cell_type": "code",
      "execution_count": 11,
      "metadata": {
        "collapsed": true,
        "colab": {
          "base_uri": "https://localhost:8080/"
        },
        "id": "0D_mAKYS7kt3",
        "outputId": "84207e65-55d6-46df-f30d-576791d3e027"
      },
      "outputs": [
        {
          "output_type": "execute_result",
          "data": {
            "text/plain": [
              "array([[0, 1, 2],\n",
              "       [3, 4, 5],\n",
              "       [6, 7, 8]])"
            ]
          },
          "metadata": {},
          "execution_count": 11
        }
      ],
      "source": [
        "arr6 = np.arange(9).reshape(3,3)\n",
        "arr6"
      ]
    },
    {
      "cell_type": "code",
      "execution_count": null,
      "metadata": {
        "id": "Zsx_6sAU7kt3",
        "outputId": "a528f0f2-8fb1-4696-f524-7f818abb818b"
      },
      "outputs": [
        {
          "data": {
            "text/plain": [
              "array([[0, 1, 2],\n",
              "       [3, 4, 5],\n",
              "       [6, 7, 8]])"
            ]
          },
          "execution_count": 7,
          "metadata": {},
          "output_type": "execute_result"
        }
      ],
      "source": [
        "# Bu hücreye kod yazıp çalıştırma !"
      ]
    },
    {
      "cell_type": "markdown",
      "metadata": {
        "id": "8mW0fK0a7kt3"
      },
      "source": [
        "#### 8. 3x3 boyutlarında birim matris oluşturun"
      ]
    },
    {
      "cell_type": "code",
      "execution_count": 12,
      "metadata": {
        "collapsed": true,
        "colab": {
          "base_uri": "https://localhost:8080/"
        },
        "id": "Bt976wOr7kt4",
        "outputId": "a0b3e4c5-48db-420c-8911-57cd89548b2f"
      },
      "outputs": [
        {
          "output_type": "execute_result",
          "data": {
            "text/plain": [
              "array([[1., 0., 0.],\n",
              "       [0., 1., 0.],\n",
              "       [0., 0., 1.]])"
            ]
          },
          "metadata": {},
          "execution_count": 12
        }
      ],
      "source": [
        "arr7 = np.eye(3)\n",
        "arr7"
      ]
    },
    {
      "cell_type": "code",
      "execution_count": null,
      "metadata": {
        "id": "dkM5jF5w7kt4",
        "outputId": "709b8939-9202-4c67-8847-c356f92739c0"
      },
      "outputs": [
        {
          "data": {
            "text/plain": [
              "array([[1., 0., 0.],\n",
              "       [0., 1., 0.],\n",
              "       [0., 0., 1.]])"
            ]
          },
          "execution_count": 8,
          "metadata": {},
          "output_type": "execute_result"
        }
      ],
      "source": [
        "# Bu hücreye kod yazıp çalıştırma !"
      ]
    },
    {
      "cell_type": "markdown",
      "metadata": {
        "id": "c9hR9h-n7kt4"
      },
      "source": [
        "#### 9. NumPy kullanarak 0-1 arasından rastgele bir sayı oluşturun. <br><br>&emsp;NOT: Değerler random seçildiği için sizin sonucunuz aşağıdaki çıktıdan farklı olacaktır"
      ]
    },
    {
      "cell_type": "code",
      "execution_count": 13,
      "metadata": {
        "collapsed": true,
        "colab": {
          "base_uri": "https://localhost:8080/"
        },
        "id": "XobkMTWr7kt5",
        "outputId": "11ad150b-c038-464a-fc57-5969a64bd0fc"
      },
      "outputs": [
        {
          "output_type": "execute_result",
          "data": {
            "text/plain": [
              "array([0.44709297])"
            ]
          },
          "metadata": {},
          "execution_count": 13
        }
      ],
      "source": [
        "arr8 = np.random.rand(1)\n",
        "arr8"
      ]
    },
    {
      "cell_type": "code",
      "execution_count": null,
      "metadata": {
        "id": "HfSLPuXk7kt5",
        "outputId": "19091224-9df9-4d00-c082-84e5c66b8024"
      },
      "outputs": [
        {
          "data": {
            "text/plain": [
              "array([0.65248055])"
            ]
          },
          "execution_count": 9,
          "metadata": {},
          "output_type": "execute_result"
        }
      ],
      "source": [
        "# Bu hücreye kod yazıp çalıştırma !"
      ]
    },
    {
      "cell_type": "markdown",
      "metadata": {
        "id": "eMH_F-VF7kt5"
      },
      "source": [
        "#### 10. NumPy kullanarak standart dağılıma sahip 25 random sayıdan oluşan bir array oluşturalım. <br><br>&emsp;&ensp;NOT: Sizin cevabınız aşağıdaki çıktıdan farklı olacaktır"
      ]
    },
    {
      "cell_type": "code",
      "execution_count": 16,
      "metadata": {
        "collapsed": true,
        "colab": {
          "base_uri": "https://localhost:8080/"
        },
        "id": "UrlJoeEu7kt5",
        "outputId": "11cf4ab6-51e7-47d0-938b-0892907f3e68"
      },
      "outputs": [
        {
          "output_type": "execute_result",
          "data": {
            "text/plain": [
              "array([-0.14946498,  1.7280274 , -1.21970262, -0.46167162, -0.6315615 ,\n",
              "        0.9466819 , -1.86676719,  0.79801155,  1.70683822,  0.28072619,\n",
              "       -0.59448569, -0.12456926,  0.1784107 , -0.25676115,  0.40934264,\n",
              "        1.13771326,  0.93387783, -0.54870367, -0.28737669,  1.60868491,\n",
              "       -1.22807663,  0.97154707,  0.5368545 ,  1.14603558, -1.5955685 ])"
            ]
          },
          "metadata": {},
          "execution_count": 16
        }
      ],
      "source": [
        "arr9 = np.random.randn(25)\n",
        "arr9"
      ]
    },
    {
      "cell_type": "code",
      "execution_count": null,
      "metadata": {
        "id": "r03x91BQ7kt6",
        "outputId": "8d74bb5b-2db0-4163-82f7-dad1a8a04824"
      },
      "outputs": [
        {
          "data": {
            "text/plain": [
              "array([ 1.80076712, -1.12375847, -0.98524305,  0.11673573,  1.96346762,\n",
              "        1.81378592, -0.33790771,  0.85012656,  0.0100703 , -0.91005957,\n",
              "        0.29064366,  0.69906357,  0.1774377 , -0.61958694, -0.45498611,\n",
              "       -2.0804685 , -0.06778549,  1.06403819,  0.4311884 , -1.09853837,\n",
              "        1.11980469, -0.48751963,  1.32517611, -0.61775122, -0.00622865])"
            ]
          },
          "execution_count": 10,
          "metadata": {},
          "output_type": "execute_result"
        }
      ],
      "source": [
        "# Bu hücreye kod yazıp çalıştırma !"
      ]
    },
    {
      "cell_type": "markdown",
      "metadata": {
        "id": "V9LzohWb7kt6"
      },
      "source": [
        "#### 11. Aşağıdaki çıktıdakine benzer array'i oluşturmaya çalışın"
      ]
    },
    {
      "cell_type": "code",
      "execution_count": 18,
      "metadata": {
        "collapsed": true,
        "colab": {
          "base_uri": "https://localhost:8080/"
        },
        "id": "zBOnp1O-7kt6",
        "outputId": "057c8088-b051-4fbd-fd51-780d02ed871a"
      },
      "outputs": [
        {
          "output_type": "execute_result",
          "data": {
            "text/plain": [
              "array([[0.01, 0.02, 0.03, 0.04, 0.05, 0.06, 0.07, 0.08, 0.09, 0.1 ],\n",
              "       [0.11, 0.12, 0.13, 0.14, 0.15, 0.16, 0.17, 0.18, 0.19, 0.2 ],\n",
              "       [0.21, 0.22, 0.23, 0.24, 0.25, 0.26, 0.27, 0.28, 0.29, 0.3 ],\n",
              "       [0.31, 0.32, 0.33, 0.34, 0.35, 0.36, 0.37, 0.38, 0.39, 0.4 ],\n",
              "       [0.41, 0.42, 0.43, 0.44, 0.45, 0.46, 0.47, 0.48, 0.49, 0.5 ],\n",
              "       [0.51, 0.52, 0.53, 0.54, 0.55, 0.56, 0.57, 0.58, 0.59, 0.6 ],\n",
              "       [0.61, 0.62, 0.63, 0.64, 0.65, 0.66, 0.67, 0.68, 0.69, 0.7 ],\n",
              "       [0.71, 0.72, 0.73, 0.74, 0.75, 0.76, 0.77, 0.78, 0.79, 0.8 ],\n",
              "       [0.81, 0.82, 0.83, 0.84, 0.85, 0.86, 0.87, 0.88, 0.89, 0.9 ],\n",
              "       [0.91, 0.92, 0.93, 0.94, 0.95, 0.96, 0.97, 0.98, 0.99, 1.  ]])"
            ]
          },
          "metadata": {},
          "execution_count": 18
        }
      ],
      "source": [
        "arr10 = (np.arange(1,101) / 100).reshape(10,10)\n",
        "arr10"
      ]
    },
    {
      "cell_type": "code",
      "execution_count": null,
      "metadata": {
        "id": "Srk7ULVM7kt6",
        "outputId": "043c26bd-1316-4d69-f521-a99400867062"
      },
      "outputs": [
        {
          "data": {
            "text/plain": [
              "array([[0.01, 0.02, 0.03, 0.04, 0.05, 0.06, 0.07, 0.08, 0.09, 0.1 ],\n",
              "       [0.11, 0.12, 0.13, 0.14, 0.15, 0.16, 0.17, 0.18, 0.19, 0.2 ],\n",
              "       [0.21, 0.22, 0.23, 0.24, 0.25, 0.26, 0.27, 0.28, 0.29, 0.3 ],\n",
              "       [0.31, 0.32, 0.33, 0.34, 0.35, 0.36, 0.37, 0.38, 0.39, 0.4 ],\n",
              "       [0.41, 0.42, 0.43, 0.44, 0.45, 0.46, 0.47, 0.48, 0.49, 0.5 ],\n",
              "       [0.51, 0.52, 0.53, 0.54, 0.55, 0.56, 0.57, 0.58, 0.59, 0.6 ],\n",
              "       [0.61, 0.62, 0.63, 0.64, 0.65, 0.66, 0.67, 0.68, 0.69, 0.7 ],\n",
              "       [0.71, 0.72, 0.73, 0.74, 0.75, 0.76, 0.77, 0.78, 0.79, 0.8 ],\n",
              "       [0.81, 0.82, 0.83, 0.84, 0.85, 0.86, 0.87, 0.88, 0.89, 0.9 ],\n",
              "       [0.91, 0.92, 0.93, 0.94, 0.95, 0.96, 0.97, 0.98, 0.99, 1.  ]])"
            ]
          },
          "execution_count": 11,
          "metadata": {},
          "output_type": "execute_result"
        }
      ],
      "source": [
        "# Bu hücreye kod yazıp çalıştırma !"
      ]
    },
    {
      "cell_type": "markdown",
      "metadata": {
        "id": "Lzj7Nc6S7kt7"
      },
      "source": [
        "#### 12. 0-1 arasında lineer artış gösteren ve 20 sayıdan oluşan bir array oluşturun:"
      ]
    },
    {
      "cell_type": "code",
      "execution_count": 20,
      "metadata": {
        "collapsed": true,
        "colab": {
          "base_uri": "https://localhost:8080/"
        },
        "id": "1dMO6RY-7kt7",
        "outputId": "a56b180a-7504-4838-ad44-0760570c3071"
      },
      "outputs": [
        {
          "output_type": "execute_result",
          "data": {
            "text/plain": [
              "array([0.        , 0.05263158, 0.10526316, 0.15789474, 0.21052632,\n",
              "       0.26315789, 0.31578947, 0.36842105, 0.42105263, 0.47368421,\n",
              "       0.52631579, 0.57894737, 0.63157895, 0.68421053, 0.73684211,\n",
              "       0.78947368, 0.84210526, 0.89473684, 0.94736842, 1.        ])"
            ]
          },
          "metadata": {},
          "execution_count": 20
        }
      ],
      "source": [
        "arr11 = np.linspace(0,1,20)\n",
        "arr11"
      ]
    },
    {
      "cell_type": "code",
      "execution_count": null,
      "metadata": {
        "id": "0BV60ymg7kt7",
        "outputId": "9cedf79b-aa40-4e53-9405-cb2a101ba013"
      },
      "outputs": [
        {
          "data": {
            "text/plain": [
              "array([0.        , 0.05263158, 0.10526316, 0.15789474, 0.21052632,\n",
              "       0.26315789, 0.31578947, 0.36842105, 0.42105263, 0.47368421,\n",
              "       0.52631579, 0.57894737, 0.63157895, 0.68421053, 0.73684211,\n",
              "       0.78947368, 0.84210526, 0.89473684, 0.94736842, 1.        ])"
            ]
          },
          "execution_count": 12,
          "metadata": {},
          "output_type": "execute_result"
        }
      ],
      "source": [
        "# Bu hücreye kod yazıp çalıştırma !"
      ]
    },
    {
      "cell_type": "markdown",
      "metadata": {
        "id": "dbRbdSmg7kt8"
      },
      "source": [
        "## NumPy Indexing and Selection\n",
        "\n",
        "Aşağıdaki matris sıradaki sorular için bizim başlangıç matrisimiz. (Aşağıdaki kod hücresini çalıştırarak devam edin.), devamında sorduğumuz soruları cevaplamaya çalışın:\n"
      ]
    },
    {
      "cell_type": "code",
      "execution_count": 21,
      "metadata": {
        "colab": {
          "base_uri": "https://localhost:8080/"
        },
        "id": "NR4KyGmx7kt8",
        "outputId": "59d063db-d4f6-429a-fde4-ee31eadd37f2"
      },
      "outputs": [
        {
          "output_type": "execute_result",
          "data": {
            "text/plain": [
              "array([[ 1,  2,  3,  4,  5],\n",
              "       [ 6,  7,  8,  9, 10],\n",
              "       [11, 12, 13, 14, 15],\n",
              "       [16, 17, 18, 19, 20],\n",
              "       [21, 22, 23, 24, 25]])"
            ]
          },
          "metadata": {},
          "execution_count": 21
        }
      ],
      "source": [
        "# RUN THIS CELL - THIS IS OUR STARTING MATRIX\n",
        "mat = np.arange(1,26).reshape(5,5)\n",
        "mat"
      ]
    },
    {
      "cell_type": "markdown",
      "metadata": {
        "id": "uW1yPYea7kt9"
      },
      "source": [
        "#### 13. Aşağıda verilen matrisleri oluşturmaya çalışın.<br><br>&emsp;&ensp;Çıktıların üstündeki kod hücresini çalıştırmayın, aksi takdirde çıktıları göremezsiniz"
      ]
    },
    {
      "cell_type": "code",
      "execution_count": 78,
      "metadata": {
        "collapsed": true,
        "colab": {
          "base_uri": "https://localhost:8080/"
        },
        "id": "7W9mRJs87kt9",
        "outputId": "7c664504-0ae4-417d-c755-9fc017bbdeac"
      },
      "outputs": [
        {
          "output_type": "execute_result",
          "data": {
            "text/plain": [
              "array([[12, 13, 14, 15],\n",
              "       [17, 18, 19, 20],\n",
              "       [22, 23, 24, 25]])"
            ]
          },
          "metadata": {},
          "execution_count": 78
        }
      ],
      "source": [
        "arr12 = mat[2:5, 1:]\n",
        "arr12"
      ]
    },
    {
      "cell_type": "code",
      "execution_count": null,
      "metadata": {
        "id": "NJV8cYvK7kt9",
        "outputId": "45a8f8c7-7278-4cb4-d7b9-ad6830de5ea3"
      },
      "outputs": [
        {
          "data": {
            "text/plain": [
              "array([[12, 13, 14, 15],\n",
              "       [17, 18, 19, 20],\n",
              "       [22, 23, 24, 25]])"
            ]
          },
          "execution_count": 14,
          "metadata": {},
          "output_type": "execute_result"
        }
      ],
      "source": [
        "# Bu hücreye kod yazıp çalıştırma !"
      ]
    },
    {
      "cell_type": "markdown",
      "metadata": {
        "id": "mMds9LOw7kt-"
      },
      "source": [
        "#### 14. Write code that reproduces the output shown below."
      ]
    },
    {
      "cell_type": "code",
      "execution_count": 48,
      "metadata": {
        "collapsed": true,
        "colab": {
          "base_uri": "https://localhost:8080/"
        },
        "id": "l5KdHbsB7kt-",
        "outputId": "3cc40f70-66d7-4d47-8e83-8b3decedbbb5"
      },
      "outputs": [
        {
          "output_type": "execute_result",
          "data": {
            "text/plain": [
              "20"
            ]
          },
          "metadata": {},
          "execution_count": 48
        }
      ],
      "source": [
        "arr13 = mat[-2,-1]\n",
        "arr13"
      ]
    },
    {
      "cell_type": "code",
      "execution_count": null,
      "metadata": {
        "id": "XEDDw_v77kt-",
        "outputId": "beb9c845-a322-4e48-bf6f-8eb6d56c2cbe"
      },
      "outputs": [
        {
          "data": {
            "text/plain": [
              "20"
            ]
          },
          "execution_count": 15,
          "metadata": {},
          "output_type": "execute_result"
        }
      ],
      "source": [
        "# Bu hücreye kod yazıp çalıştırma !"
      ]
    },
    {
      "cell_type": "markdown",
      "metadata": {
        "id": "nK-REd0I7kt-"
      },
      "source": [
        "#### 15. mat arrayini kullanarak aşağıdaki matris çıktısını verecek kodları oluşturun"
      ]
    },
    {
      "cell_type": "code",
      "execution_count": 80,
      "metadata": {
        "collapsed": true,
        "colab": {
          "base_uri": "https://localhost:8080/"
        },
        "id": "BMvGIBXU7kt_",
        "outputId": "7ede0210-0e89-4bda-b407-311a143d628a"
      },
      "outputs": [
        {
          "output_type": "execute_result",
          "data": {
            "text/plain": [
              "array([[ 2],\n",
              "       [ 7],\n",
              "       [12]])"
            ]
          },
          "metadata": {},
          "execution_count": 80
        }
      ],
      "source": [
        "arr14 = mat[:3, 1].reshape(3,1)\n",
        "arr14"
      ]
    },
    {
      "cell_type": "code",
      "execution_count": null,
      "metadata": {
        "id": "qTLXR-Nn7kt_",
        "outputId": "6e84cad1-b9cb-410e-868d-d9c9aedaa0b1"
      },
      "outputs": [
        {
          "data": {
            "text/plain": [
              "array([[ 2],\n",
              "       [ 7],\n",
              "       [12]])"
            ]
          },
          "execution_count": 16,
          "metadata": {},
          "output_type": "execute_result"
        }
      ],
      "source": [
        "# Bu hücreye kod yazıp çalıştırma !"
      ]
    },
    {
      "cell_type": "markdown",
      "metadata": {
        "id": "mTEQJ_t-7kuA"
      },
      "source": [
        "#### 16. mat arrayini kullanarak aşağıdaki matris çıktısını verecek kodları oluşturun"
      ]
    },
    {
      "cell_type": "code",
      "execution_count": 69,
      "metadata": {
        "collapsed": true,
        "colab": {
          "base_uri": "https://localhost:8080/"
        },
        "id": "DSKaGonC7kuA",
        "outputId": "3e1c49c5-da9f-462a-8dac-14514268827a"
      },
      "outputs": [
        {
          "output_type": "execute_result",
          "data": {
            "text/plain": [
              "array([21, 22, 23, 24, 25])"
            ]
          },
          "metadata": {},
          "execution_count": 69
        }
      ],
      "source": [
        "arr15 = mat[-1]\n",
        "arr15"
      ]
    },
    {
      "cell_type": "code",
      "execution_count": null,
      "metadata": {
        "id": "K1Yprco57kuA",
        "outputId": "9146dd22-ef5b-4b22-9313-421d44af0fa3"
      },
      "outputs": [
        {
          "data": {
            "text/plain": [
              "array([21, 22, 23, 24, 25])"
            ]
          },
          "execution_count": 17,
          "metadata": {},
          "output_type": "execute_result"
        }
      ],
      "source": [
        "# Bu hücreye kod yazıp çalıştırma !"
      ]
    },
    {
      "cell_type": "markdown",
      "metadata": {
        "id": "u9f8ZDh-7kuA"
      },
      "source": [
        "#### 17. mat arrayini kullanarak aşağıdaki matris çıktısını verecek kodları oluşturun"
      ]
    },
    {
      "cell_type": "code",
      "execution_count": 70,
      "metadata": {
        "collapsed": true,
        "colab": {
          "base_uri": "https://localhost:8080/"
        },
        "id": "EYY3nwik7kuA",
        "outputId": "9313c4f5-6c1f-4e83-edf4-e6ba3bc3fb48"
      },
      "outputs": [
        {
          "output_type": "execute_result",
          "data": {
            "text/plain": [
              "array([[16, 17, 18, 19, 20],\n",
              "       [21, 22, 23, 24, 25]])"
            ]
          },
          "metadata": {},
          "execution_count": 70
        }
      ],
      "source": [
        "arr15 = mat[-2:]\n",
        "arr15"
      ]
    },
    {
      "cell_type": "code",
      "execution_count": null,
      "metadata": {
        "id": "uv7tIjpe7kuB",
        "outputId": "b229eb27-f412-452b-e500-2438fd5634c6"
      },
      "outputs": [
        {
          "data": {
            "text/plain": [
              "array([[16, 17, 18, 19, 20],\n",
              "       [21, 22, 23, 24, 25]])"
            ]
          },
          "execution_count": 18,
          "metadata": {},
          "output_type": "execute_result"
        }
      ],
      "source": [
        "# Bu hücreye kod yazıp çalıştırma !"
      ]
    },
    {
      "cell_type": "markdown",
      "metadata": {
        "id": "y4DDuR067kuB"
      },
      "source": [
        "## NumPy Operations"
      ]
    },
    {
      "cell_type": "markdown",
      "metadata": {
        "id": "I21Z918X7kuB"
      },
      "source": [
        "#### 18. Mat arrayindeki bütün değerlerin toplamını bulun"
      ]
    },
    {
      "cell_type": "code",
      "execution_count": 71,
      "metadata": {
        "collapsed": true,
        "colab": {
          "base_uri": "https://localhost:8080/"
        },
        "id": "wwvFLHP47kuB",
        "outputId": "3ac62b28-9122-457f-8257-d416b7d10604"
      },
      "outputs": [
        {
          "output_type": "stream",
          "name": "stdout",
          "text": [
            "325\n"
          ]
        }
      ],
      "source": [
        "print(mat.sum())"
      ]
    },
    {
      "cell_type": "code",
      "execution_count": null,
      "metadata": {
        "id": "Jyczxs8f7kuC",
        "outputId": "1c4eeae9-67cd-48e9-917e-99d16b47bf45"
      },
      "outputs": [
        {
          "data": {
            "text/plain": [
              "325"
            ]
          },
          "execution_count": 19,
          "metadata": {},
          "output_type": "execute_result"
        }
      ],
      "source": [
        "# Bu hücreye kod yazıp çalıştırma !"
      ]
    },
    {
      "cell_type": "markdown",
      "metadata": {
        "id": "ouV_svSq7kuC"
      },
      "source": [
        "#### 19. Mat arrayindeki değerlerin standart sapmasını bulun"
      ]
    },
    {
      "cell_type": "code",
      "execution_count": 72,
      "metadata": {
        "collapsed": true,
        "colab": {
          "base_uri": "https://localhost:8080/"
        },
        "id": "MbPVCvfK7kuC",
        "outputId": "d5bfe1e3-a7ce-4c65-e5f6-97504cf81587"
      },
      "outputs": [
        {
          "output_type": "stream",
          "name": "stdout",
          "text": [
            "7.211102550927978\n"
          ]
        }
      ],
      "source": [
        "print(mat.std())"
      ]
    },
    {
      "cell_type": "code",
      "execution_count": null,
      "metadata": {
        "id": "reFZ8wAC7kuC",
        "outputId": "b79a4fd8-c57f-4b09-e402-6baf2c3b0a8f"
      },
      "outputs": [
        {
          "data": {
            "text/plain": [
              "7.211102550927978"
            ]
          },
          "execution_count": 20,
          "metadata": {},
          "output_type": "execute_result"
        }
      ],
      "source": [
        "# Bu hücreye kod yazıp çalıştırma !"
      ]
    },
    {
      "cell_type": "markdown",
      "metadata": {
        "id": "IIVFtHHi7kuC"
      },
      "source": [
        "#### 20. Mat arrayindeki her sütunun kendi içinde toplamlarını bularak yeni bir array oluşturun"
      ]
    },
    {
      "cell_type": "code",
      "execution_count": 85,
      "metadata": {
        "collapsed": true,
        "colab": {
          "base_uri": "https://localhost:8080/"
        },
        "id": "ka0hyIJq7kuD",
        "outputId": "94d016b6-c6d4-45a2-cc72-646c39a8c9da"
      },
      "outputs": [
        {
          "output_type": "execute_result",
          "data": {
            "text/plain": [
              "array([55, 60, 65, 70, 75])"
            ]
          },
          "metadata": {},
          "execution_count": 85
        }
      ],
      "source": [
        "arr16 = np.zeros(5, dtype = int)\n",
        "for i in range(5) :\n",
        "  arr16[i] = mat[:, i].sum()\n",
        "arr16"
      ]
    },
    {
      "cell_type": "code",
      "execution_count": null,
      "metadata": {
        "id": "1AACRhEo7kuD",
        "outputId": "e8709f58-ba8b-4fed-8f74-b0f8540b4a20"
      },
      "outputs": [
        {
          "data": {
            "text/plain": [
              "array([55, 60, 65, 70, 75])"
            ]
          },
          "execution_count": 21,
          "metadata": {},
          "output_type": "execute_result"
        }
      ],
      "source": [
        "# Bu hücreye kod yazıp çalıştırma !"
      ]
    },
    {
      "cell_type": "markdown",
      "metadata": {
        "collapsed": true,
        "id": "ckMxwI3F7kuD"
      },
      "source": [
        "# Tebrikler, NumPy temelleri öğrenilmiş!"
      ]
    }
  ],
  "metadata": {
    "anaconda-cloud": {},
    "kernelspec": {
      "display_name": "Python 3",
      "language": "python",
      "name": "python3"
    },
    "language_info": {
      "codemirror_mode": {
        "name": "ipython",
        "version": 3
      },
      "file_extension": ".py",
      "mimetype": "text/x-python",
      "name": "python",
      "nbconvert_exporter": "python",
      "pygments_lexer": "ipython3",
      "version": "3.10.10"
    },
    "colab": {
      "provenance": []
    }
  },
  "nbformat": 4,
  "nbformat_minor": 0
}