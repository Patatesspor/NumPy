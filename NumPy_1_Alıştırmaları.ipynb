{
  "nbformat": 4,
  "nbformat_minor": 0,
  "metadata": {
    "colab": {
      "provenance": []
    },
    "kernelspec": {
      "name": "python3",
      "display_name": "Python 3"
    },
    "language_info": {
      "name": "python"
    }
  },
  "cells": [
    {
      "cell_type": "code",
      "execution_count": 4,
      "metadata": {
        "colab": {
          "base_uri": "https://localhost:8080/"
        },
        "id": "4ZEx0vMRAlnX",
        "outputId": "93a99f7a-ab8e-4bc3-a0d4-92a79cc0b8a7"
      },
      "outputs": [
        {
          "output_type": "stream",
          "name": "stdout",
          "text": [
            "3\n"
          ]
        }
      ],
      "source": [
        "import numpy as np\n",
        "arr3d = np.array([[[1,2,3], [4,5,6]], [[7,8,9],[10,11,12]]])\n",
        "print(arr3d.ndim)"
      ]
    },
    {
      "cell_type": "code",
      "source": [
        "arr1 = np.arange(34,113,6)\n",
        "print(arr1)"
      ],
      "metadata": {
        "colab": {
          "base_uri": "https://localhost:8080/"
        },
        "id": "y0fdNIbcHxT2",
        "outputId": "b8a8c6bb-40ad-4e8b-9af8-983a5ad470f0"
      },
      "execution_count": 7,
      "outputs": [
        {
          "output_type": "stream",
          "name": "stdout",
          "text": [
            "[ 34  40  46  52  58  64  70  76  82  88  94 100 106 112]\n"
          ]
        }
      ]
    },
    {
      "cell_type": "code",
      "source": [
        "arr2 = np.linspace(50,500,91, dtype = 'int')\n",
        "print(arr2)"
      ],
      "metadata": {
        "colab": {
          "base_uri": "https://localhost:8080/"
        },
        "id": "VsncDSpLICex",
        "outputId": "2efdfa97-cb8f-45e5-a6ae-f7e29ab53cb4"
      },
      "execution_count": 8,
      "outputs": [
        {
          "output_type": "stream",
          "name": "stdout",
          "text": [
            "[ 50  55  60  65  70  75  80  85  90  95 100 105 110 115 120 125 130 135\n",
            " 140 145 150 155 160 165 170 175 180 185 190 195 200 205 210 215 220 225\n",
            " 230 235 240 245 250 255 260 265 270 275 280 285 290 295 300 305 310 315\n",
            " 320 325 330 335 340 345 350 355 360 365 370 375 380 385 390 395 400 405\n",
            " 410 415 420 425 430 435 440 445 450 455 460 465 470 475 480 485 490 495\n",
            " 500]\n"
          ]
        }
      ]
    },
    {
      "cell_type": "code",
      "source": [
        "arr3 = np.logspace(2,5,8)\n",
        "print(arr3)"
      ],
      "metadata": {
        "colab": {
          "base_uri": "https://localhost:8080/"
        },
        "id": "f1bdVpusIZOO",
        "outputId": "9618fda2-c932-48c3-a646-acaf2a041d4c"
      },
      "execution_count": 14,
      "outputs": [
        {
          "output_type": "stream",
          "name": "stdout",
          "text": [
            "[   100.            268.26957953    719.685673     1930.69772888\n",
            "   5179.47467923  13894.95494373  37275.93720315 100000.        ]\n"
          ]
        }
      ]
    },
    {
      "cell_type": "code",
      "source": [
        "arr4 = np.arange(0,9).reshape(3,3)\n",
        "print(arr4)"
      ],
      "metadata": {
        "colab": {
          "base_uri": "https://localhost:8080/"
        },
        "id": "codH-Wc8JHHm",
        "outputId": "0de0611a-b0d8-4a1d-c798-464ba11ab404"
      },
      "execution_count": 57,
      "outputs": [
        {
          "output_type": "stream",
          "name": "stdout",
          "text": [
            "[[0 1 2]\n",
            " [3 4 5]\n",
            " [6 7 8]]\n"
          ]
        }
      ]
    },
    {
      "cell_type": "code",
      "source": [
        "arr5 = np.zeros((6,6), dtype = 'int')\n",
        "print(arr5)"
      ],
      "metadata": {
        "colab": {
          "base_uri": "https://localhost:8080/"
        },
        "id": "gXS3R5IpMMHr",
        "outputId": "7a49bf72-ab29-4076-9c74-566dad812ea4"
      },
      "execution_count": 33,
      "outputs": [
        {
          "output_type": "stream",
          "name": "stdout",
          "text": [
            "[[0 0 0 0 0 0]\n",
            " [0 0 0 0 0 0]\n",
            " [0 0 0 0 0 0]\n",
            " [0 0 0 0 0 0]\n",
            " [0 0 0 0 0 0]\n",
            " [0 0 0 0 0 0]]\n"
          ]
        }
      ]
    },
    {
      "cell_type": "code",
      "source": [
        "arr5 = np.ones((4,4), dtype = 'int')\n",
        "print(arr5)"
      ],
      "metadata": {
        "colab": {
          "base_uri": "https://localhost:8080/"
        },
        "id": "fBsq6cUWMgZW",
        "outputId": "588be234-e8ae-4986-ebdf-66a826830e75"
      },
      "execution_count": 37,
      "outputs": [
        {
          "output_type": "stream",
          "name": "stdout",
          "text": [
            "[[1 1 1 1]\n",
            " [1 1 1 1]\n",
            " [1 1 1 1]\n",
            " [1 1 1 1]]\n"
          ]
        }
      ]
    },
    {
      "cell_type": "code",
      "source": [
        "arr6 = np.eye(8, dtype = 'int')\n",
        "print(arr6)"
      ],
      "metadata": {
        "colab": {
          "base_uri": "https://localhost:8080/"
        },
        "id": "mczl3DTRMm2V",
        "outputId": "6113ada3-f801-4196-de49-8d337f905082"
      },
      "execution_count": 51,
      "outputs": [
        {
          "output_type": "stream",
          "name": "stdout",
          "text": [
            "[[1 0 0 0 0 0 0 0]\n",
            " [0 1 0 0 0 0 0 0]\n",
            " [0 0 1 0 0 0 0 0]\n",
            " [0 0 0 1 0 0 0 0]\n",
            " [0 0 0 0 1 0 0 0]\n",
            " [0 0 0 0 0 1 0 0]\n",
            " [0 0 0 0 0 0 1 0]\n",
            " [0 0 0 0 0 0 0 1]]\n"
          ]
        }
      ]
    },
    {
      "cell_type": "code",
      "source": [
        "arr7 = np.eye(8) * 3\n",
        "print(arr7)"
      ],
      "metadata": {
        "colab": {
          "base_uri": "https://localhost:8080/"
        },
        "id": "6QsijbjaM7Mj",
        "outputId": "800f4ebb-5df5-442c-e400-6b491f08ab13"
      },
      "execution_count": 53,
      "outputs": [
        {
          "output_type": "stream",
          "name": "stdout",
          "text": [
            "[[3. 0. 0. 0. 0. 0. 0. 0.]\n",
            " [0. 3. 0. 0. 0. 0. 0. 0.]\n",
            " [0. 0. 3. 0. 0. 0. 0. 0.]\n",
            " [0. 0. 0. 3. 0. 0. 0. 0.]\n",
            " [0. 0. 0. 0. 3. 0. 0. 0.]\n",
            " [0. 0. 0. 0. 0. 3. 0. 0.]\n",
            " [0. 0. 0. 0. 0. 0. 3. 0.]\n",
            " [0. 0. 0. 0. 0. 0. 0. 3.]]\n"
          ]
        }
      ]
    },
    {
      "cell_type": "code",
      "source": [
        "arr8 = np.random.rand(6)\n",
        "print(arr8)"
      ],
      "metadata": {
        "colab": {
          "base_uri": "https://localhost:8080/"
        },
        "id": "vmmmAvpdPW-I",
        "outputId": "dcca397b-84f4-4f82-d0a5-ef20906cceb6"
      },
      "execution_count": 56,
      "outputs": [
        {
          "output_type": "stream",
          "name": "stdout",
          "text": [
            "[0.84441177 0.4123653  0.82512792 0.04162789 0.30379101 0.94323499]\n"
          ]
        }
      ]
    },
    {
      "cell_type": "code",
      "source": [
        "arr9 = np.random.randint(50,101,(2,5))\n",
        "print(arr9)\n",
        "print(arr9.shape)"
      ],
      "metadata": {
        "colab": {
          "base_uri": "https://localhost:8080/"
        },
        "id": "_rQjdskKPheE",
        "outputId": "94d2a748-bf90-4299-ff68-0ce3337593c1"
      },
      "execution_count": 85,
      "outputs": [
        {
          "output_type": "stream",
          "name": "stdout",
          "text": [
            "[[69 53 74 77 89]\n",
            " [97 65 76 71 96]]\n",
            "(2, 5)\n"
          ]
        }
      ]
    },
    {
      "cell_type": "code",
      "source": [
        "arr10 = np.random.randint(100,1000,(2,5,5))\n",
        "print(arr10)\n",
        "print(arr10.ndim)\n",
        "print(arr10.shape)"
      ],
      "metadata": {
        "colab": {
          "base_uri": "https://localhost:8080/"
        },
        "id": "pT54yM73RCYa",
        "outputId": "66ffe6c1-ddc2-4d1a-ff72-99a8bd05492e"
      },
      "execution_count": 87,
      "outputs": [
        {
          "output_type": "stream",
          "name": "stdout",
          "text": [
            "[[[525 238 756 972 328]\n",
            "  [154 252 714 253 882]\n",
            "  [218 997 636 278 656]\n",
            "  [910 568 809 593 750]\n",
            "  [105 262 221 487 322]]\n",
            "\n",
            " [[551 549 915 983 646]\n",
            "  [130 201 131 756 899]\n",
            "  [151 376 821 343 799]\n",
            "  [467 174 238 302 243]\n",
            "  [374 891 470 717 759]]]\n",
            "3\n",
            "(2, 5, 5)\n"
          ]
        }
      ]
    },
    {
      "cell_type": "code",
      "source": [
        "arr11 = np.random.randint(0,100,10)\n",
        "print(arr11)\n",
        "print(arr11.max()) \n",
        "print(arr11.argmax()) \n",
        "print(arr11.min()) \n",
        "print(arr11.argmin())"
      ],
      "metadata": {
        "colab": {
          "base_uri": "https://localhost:8080/"
        },
        "id": "v9dCwA-SRgeM",
        "outputId": "d980bc79-4d49-4598-bd99-b3c72b2e322d"
      },
      "execution_count": 91,
      "outputs": [
        {
          "output_type": "stream",
          "name": "stdout",
          "text": [
            "[39 57 11 47 65 23 51 44 84 87]\n",
            "87\n",
            "9\n",
            "11\n",
            "2\n"
          ]
        }
      ]
    },
    {
      "cell_type": "code",
      "source": [
        "arr12 = np.random.randint(300,501,(2,2,5))\n",
        "print(arr12)"
      ],
      "metadata": {
        "colab": {
          "base_uri": "https://localhost:8080/"
        },
        "id": "powd2ewsR_m1",
        "outputId": "db88b1ab-f908-4b51-bbfd-311116fbd847"
      },
      "execution_count": 93,
      "outputs": [
        {
          "output_type": "stream",
          "name": "stdout",
          "text": [
            "[[[368 342 400 412 301]\n",
            "  [346 445 388 381 498]]\n",
            "\n",
            " [[439 457 429 474 419]\n",
            "  [325 422 384 400 422]]]\n"
          ]
        }
      ]
    },
    {
      "cell_type": "code",
      "source": [
        "print(\"Max:\", arr12[0,1,4])\n",
        "print(\"Min:\", arr12[0,0,4])"
      ],
      "metadata": {
        "colab": {
          "base_uri": "https://localhost:8080/"
        },
        "id": "62xiibEpSQ1Z",
        "outputId": "6c678a67-f1f3-4e09-f1d8-ee1732dbd5cc"
      },
      "execution_count": 95,
      "outputs": [
        {
          "output_type": "stream",
          "name": "stdout",
          "text": [
            "Max: 498\n",
            "Min: 301\n"
          ]
        }
      ]
    },
    {
      "cell_type": "code",
      "source": [
        "arr13 = np.arange(0,51)\n",
        "print(arr13)\n",
        "arr13[20:35] = 500\n",
        "print(arr13)"
      ],
      "metadata": {
        "colab": {
          "base_uri": "https://localhost:8080/"
        },
        "id": "ZkzusZYdSqZq",
        "outputId": "eb546733-bc95-4176-9c98-40629d299a52"
      },
      "execution_count": 98,
      "outputs": [
        {
          "output_type": "stream",
          "name": "stdout",
          "text": [
            "[ 0  1  2  3  4  5  6  7  8  9 10 11 12 13 14 15 16 17 18 19 20 21 22 23\n",
            " 24 25 26 27 28 29 30 31 32 33 34 35 36 37 38 39 40 41 42 43 44 45 46 47\n",
            " 48 49 50]\n",
            "[  0   1   2   3   4   5   6   7   8   9  10  11  12  13  14  15  16  17\n",
            "  18  19 500 500 500 500 500 500 500 500 500 500 500 500 500 500 500  35\n",
            "  36  37  38  39  40  41  42  43  44  45  46  47  48  49  50]\n"
          ]
        }
      ]
    }
  ]
}