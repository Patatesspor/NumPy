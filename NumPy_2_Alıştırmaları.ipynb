{
  "nbformat": 4,
  "nbformat_minor": 0,
  "metadata": {
    "colab": {
      "provenance": []
    },
    "kernelspec": {
      "name": "python3",
      "display_name": "Python 3"
    },
    "language_info": {
      "name": "python"
    }
  },
  "cells": [
    {
      "cell_type": "code",
      "execution_count": 50,
      "metadata": {
        "colab": {
          "base_uri": "https://localhost:8080/"
        },
        "id": "i7FlgGcqqPTw",
        "outputId": "ff315a3d-21d8-4f72-b943-9d2bd836fed1"
      },
      "outputs": [
        {
          "output_type": "stream",
          "name": "stdout",
          "text": [
            "[[ 0  1]\n",
            " [ 2  3]\n",
            " [ 4  5]\n",
            " [ 6  7]\n",
            " [ 8  9]\n",
            " [10 11]\n",
            " [12 13]\n",
            " [14 15]\n",
            " [16 17]\n",
            " [18 19]\n",
            " [20 21]\n",
            " [22 23]\n",
            " [24 25]\n",
            " [26 27]\n",
            " [28 29]]\n"
          ]
        }
      ],
      "source": [
        "import numpy as np\n",
        "arr1 = np.arange(0,30).reshape(-1,2)\n",
        "print(arr1)"
      ]
    },
    {
      "cell_type": "code",
      "source": [
        "arr2 = np.random.randint(0,100,60).reshape(2,5,-1)\n",
        "print(f\"Dizi:{arr2}\\nŞekil:{arr2.shape}\\nBoyut:{arr2.ndim}\")"
      ],
      "metadata": {
        "colab": {
          "base_uri": "https://localhost:8080/"
        },
        "id": "Tumpu1NLvyXy",
        "outputId": "2beddcfd-6772-4a8b-da1e-52c85e545497"
      },
      "execution_count": 51,
      "outputs": [
        {
          "output_type": "stream",
          "name": "stdout",
          "text": [
            "Dizi:[[[84 57 66  4 19 14]\n",
            "  [90 68 16 75 32 70]\n",
            "  [88  5  2  8 12  5]\n",
            "  [39 13 89 53 60 34]\n",
            "  [80  0  3 12 99 70]]\n",
            "\n",
            " [[75 20 68 68 31 10]\n",
            "  [85  9 61 23 31 63]\n",
            "  [36 70 16 93 79 71]\n",
            "  [ 8 32 45 70 87  7]\n",
            "  [33  1 75 88 21 88]]]\n",
            "Şekil:(2, 5, 6)\n",
            "Boyut:3\n"
          ]
        }
      ]
    },
    {
      "cell_type": "code",
      "source": [
        "arr3 = np.random.randint(0,10,20).reshape(4,-1)\n",
        "print(f\"Dizi:{arr3}\")\n",
        "arr3 = arr3.reshape(-1)\n",
        "print(f\"Dizi:{arr3}\\nŞekil:{arr3.shape}\\nBoyut:{arr3.ndim}\")"
      ],
      "metadata": {
        "colab": {
          "base_uri": "https://localhost:8080/"
        },
        "id": "tQ4_KonUwfRR",
        "outputId": "41272713-ef61-4c03-f2d4-5acedb7fdfc9"
      },
      "execution_count": 52,
      "outputs": [
        {
          "output_type": "stream",
          "name": "stdout",
          "text": [
            "Dizi:[[9 4 4 6 3]\n",
            " [6 0 7 6 9]\n",
            " [8 8 4 1 7]\n",
            " [4 7 3 8 9]]\n",
            "Dizi:[9 4 4 6 3 6 0 7 6 9 8 8 4 1 7 4 7 3 8 9]\n",
            "Şekil:(20,)\n",
            "Boyut:1\n"
          ]
        }
      ]
    },
    {
      "cell_type": "code",
      "source": [
        "arr4 = np.arange(0,10).reshape(2,5)\n",
        "for x in arr4 :\n",
        "  for y in x :\n",
        "    print(y)\n",
        "print(\"\\n\")\n",
        "for x in np.nditer(arr4) :\n",
        "  print(x)"
      ],
      "metadata": {
        "colab": {
          "base_uri": "https://localhost:8080/"
        },
        "id": "I5Oq6BMRxDiy",
        "outputId": "819fcc0f-e943-4b8b-bcc6-5f97f6b572f2"
      },
      "execution_count": 53,
      "outputs": [
        {
          "output_type": "stream",
          "name": "stdout",
          "text": [
            "0\n",
            "1\n",
            "2\n",
            "3\n",
            "4\n",
            "5\n",
            "6\n",
            "7\n",
            "8\n",
            "9\n",
            "\n",
            "\n",
            "0\n",
            "1\n",
            "2\n",
            "3\n",
            "4\n",
            "5\n",
            "6\n",
            "7\n",
            "8\n",
            "9\n"
          ]
        }
      ]
    },
    {
      "cell_type": "code",
      "source": [
        "arr5 = np.array([5,10,15,20,25,30])\n",
        "arr6 = np.array([1,2,3,4,5,6])\n",
        "print(arr5 + arr6)\n",
        "print(arr5 - arr6)\n",
        "print(arr5 * arr6)\n",
        "print(arr5 / arr6)"
      ],
      "metadata": {
        "colab": {
          "base_uri": "https://localhost:8080/"
        },
        "id": "jI-W3HQ4xvgG",
        "outputId": "1c92fc45-d9c4-4c5f-96c6-122e5be55d49"
      },
      "execution_count": 54,
      "outputs": [
        {
          "output_type": "stream",
          "name": "stdout",
          "text": [
            "[ 6 12 18 24 30 36]\n",
            "[ 4  8 12 16 20 24]\n",
            "[  5  20  45  80 125 180]\n",
            "[5. 5. 5. 5. 5. 5.]\n"
          ]
        }
      ]
    },
    {
      "cell_type": "code",
      "source": [
        "arr7 = np.random.randint(0,100,10)\n",
        "print(\"Sum:\", arr7.sum())\n",
        "print(\"Mean:\",arr7.mean())\n",
        "print(\"Max:\", arr7.max())\n",
        "print(\"Var:\", arr7.var())\n",
        "print(\"Std:\", arr7.std())"
      ],
      "metadata": {
        "colab": {
          "base_uri": "https://localhost:8080/"
        },
        "id": "xGAUAh6EyohQ",
        "outputId": "fbbd2069-0400-42dd-8f35-44a502b0f493"
      },
      "execution_count": 55,
      "outputs": [
        {
          "output_type": "stream",
          "name": "stdout",
          "text": [
            "Sum: 499\n",
            "Mean: 49.9\n",
            "Max: 97\n",
            "Var: 1133.8899999999999\n",
            "Std: 33.67328317821118\n"
          ]
        }
      ]
    },
    {
      "cell_type": "code",
      "source": [
        "arr8 = np.arange(0,20)\n",
        "arr9 = np.arange(500,531)\n",
        "print(np.concatenate([arr8, arr9]))"
      ],
      "metadata": {
        "colab": {
          "base_uri": "https://localhost:8080/"
        },
        "id": "flfPj9yqzhH0",
        "outputId": "9286ed7c-cbc8-4ed3-afae-24e4b43bec3b"
      },
      "execution_count": 56,
      "outputs": [
        {
          "output_type": "stream",
          "name": "stdout",
          "text": [
            "[  0   1   2   3   4   5   6   7   8   9  10  11  12  13  14  15  16  17\n",
            "  18  19 500 501 502 503 504 505 506 507 508 509 510 511 512 513 514 515\n",
            " 516 517 518 519 520 521 522 523 524 525 526 527 528 529 530]\n"
          ]
        }
      ]
    },
    {
      "cell_type": "code",
      "source": [
        "arr10 = np.arange(15,51)\n",
        "arr11 = np.arange(10,101)\n",
        "arr12 = np.concatenate([arr10, arr11])\n",
        "arr12[25:50] = 888\n",
        "print(arr12)"
      ],
      "metadata": {
        "colab": {
          "base_uri": "https://localhost:8080/"
        },
        "id": "1Ywq9E7nz39D",
        "outputId": "cd4c0aa6-6858-4dd8-b58c-98fba6d0886e"
      },
      "execution_count": 57,
      "outputs": [
        {
          "output_type": "stream",
          "name": "stdout",
          "text": [
            "[ 15  16  17  18  19  20  21  22  23  24  25  26  27  28  29  30  31  32\n",
            "  33  34  35  36  37  38  39 888 888 888 888 888 888 888 888 888 888 888\n",
            " 888 888 888 888 888 888 888 888 888 888 888 888 888 888  24  25  26  27\n",
            "  28  29  30  31  32  33  34  35  36  37  38  39  40  41  42  43  44  45\n",
            "  46  47  48  49  50  51  52  53  54  55  56  57  58  59  60  61  62  63\n",
            "  64  65  66  67  68  69  70  71  72  73  74  75  76  77  78  79  80  81\n",
            "  82  83  84  85  86  87  88  89  90  91  92  93  94  95  96  97  98  99\n",
            " 100]\n"
          ]
        }
      ]
    },
    {
      "cell_type": "code",
      "source": [
        "arr13 = np.arange(0,40).reshape(8,5)\n",
        "arr14 = np.arange(320,360).reshape(8,5)\n",
        "print(np.concatenate([arr13, arr14], axis = 0), end = '\\n\\n')\n",
        "print(np.concatenate([arr13, arr14], axis = 1))\n",
        "# Fark : Biri alt alta ilave ederken öteki yanına ekledi."
      ],
      "metadata": {
        "colab": {
          "base_uri": "https://localhost:8080/"
        },
        "id": "MbVCsQnE0l-h",
        "outputId": "994ad41c-92c7-4586-a0bc-a61b0b20f387"
      },
      "execution_count": 58,
      "outputs": [
        {
          "output_type": "stream",
          "name": "stdout",
          "text": [
            "[[  0   1   2   3   4]\n",
            " [  5   6   7   8   9]\n",
            " [ 10  11  12  13  14]\n",
            " [ 15  16  17  18  19]\n",
            " [ 20  21  22  23  24]\n",
            " [ 25  26  27  28  29]\n",
            " [ 30  31  32  33  34]\n",
            " [ 35  36  37  38  39]\n",
            " [320 321 322 323 324]\n",
            " [325 326 327 328 329]\n",
            " [330 331 332 333 334]\n",
            " [335 336 337 338 339]\n",
            " [340 341 342 343 344]\n",
            " [345 346 347 348 349]\n",
            " [350 351 352 353 354]\n",
            " [355 356 357 358 359]]\n",
            "\n",
            "[[  0   1   2   3   4 320 321 322 323 324]\n",
            " [  5   6   7   8   9 325 326 327 328 329]\n",
            " [ 10  11  12  13  14 330 331 332 333 334]\n",
            " [ 15  16  17  18  19 335 336 337 338 339]\n",
            " [ 20  21  22  23  24 340 341 342 343 344]\n",
            " [ 25  26  27  28  29 345 346 347 348 349]\n",
            " [ 30  31  32  33  34 350 351 352 353 354]\n",
            " [ 35  36  37  38  39 355 356 357 358 359]]\n"
          ]
        }
      ]
    },
    {
      "cell_type": "code",
      "source": [
        "# print(np.concatenate([arr13, arr14], axis = 2), end = '\\n\\n')"
      ],
      "metadata": {
        "id": "kmbQ69Ep1efF"
      },
      "execution_count": 59,
      "outputs": []
    },
    {
      "cell_type": "code",
      "source": [
        "print(np.stack([arr13, arr14], axis = 2), end = '\\n\\n')\n",
        "# Biri hata verirken öteki yeni bir boyut oluşturdu."
      ],
      "metadata": {
        "colab": {
          "base_uri": "https://localhost:8080/"
        },
        "id": "ZpbQznUG1pZr",
        "outputId": "ae87f238-ef07-45cd-a1b9-584741ebfb25"
      },
      "execution_count": 60,
      "outputs": [
        {
          "output_type": "stream",
          "name": "stdout",
          "text": [
            "[[[  0 320]\n",
            "  [  1 321]\n",
            "  [  2 322]\n",
            "  [  3 323]\n",
            "  [  4 324]]\n",
            "\n",
            " [[  5 325]\n",
            "  [  6 326]\n",
            "  [  7 327]\n",
            "  [  8 328]\n",
            "  [  9 329]]\n",
            "\n",
            " [[ 10 330]\n",
            "  [ 11 331]\n",
            "  [ 12 332]\n",
            "  [ 13 333]\n",
            "  [ 14 334]]\n",
            "\n",
            " [[ 15 335]\n",
            "  [ 16 336]\n",
            "  [ 17 337]\n",
            "  [ 18 338]\n",
            "  [ 19 339]]\n",
            "\n",
            " [[ 20 340]\n",
            "  [ 21 341]\n",
            "  [ 22 342]\n",
            "  [ 23 343]\n",
            "  [ 24 344]]\n",
            "\n",
            " [[ 25 345]\n",
            "  [ 26 346]\n",
            "  [ 27 347]\n",
            "  [ 28 348]\n",
            "  [ 29 349]]\n",
            "\n",
            " [[ 30 350]\n",
            "  [ 31 351]\n",
            "  [ 32 352]\n",
            "  [ 33 353]\n",
            "  [ 34 354]]\n",
            "\n",
            " [[ 35 355]\n",
            "  [ 36 356]\n",
            "  [ 37 357]\n",
            "  [ 38 358]\n",
            "  [ 39 359]]]\n",
            "\n"
          ]
        }
      ]
    },
    {
      "cell_type": "code",
      "source": [
        "arr15 = np.array([1, 20, 25, 4, 4, 5, 4, 4, 1, 6, 9, 12, 1, 5])\n",
        "print(np.where(arr15 == 5), end = '\\n\\n')\n",
        "print(np.where(arr15%2 == 0), end = '\\n\\n')\n",
        "print(np.where(arr15 > 4), end = '\\n\\n')\n",
        "print(np.where(arr15%5 == 0), end = '\\n\\n')"
      ],
      "metadata": {
        "colab": {
          "base_uri": "https://localhost:8080/"
        },
        "id": "sGScguX612cI",
        "outputId": "9992f308-ce08-4392-cae5-93815c4c1fc5"
      },
      "execution_count": 61,
      "outputs": [
        {
          "output_type": "stream",
          "name": "stdout",
          "text": [
            "(array([ 5, 13]),)\n",
            "\n",
            "(array([ 1,  3,  4,  6,  7,  9, 11]),)\n",
            "\n",
            "(array([ 1,  2,  5,  9, 10, 11, 13]),)\n",
            "\n",
            "(array([ 1,  2,  5, 13]),)\n",
            "\n"
          ]
        }
      ]
    },
    {
      "cell_type": "code",
      "source": [
        "x = np.random.randint(85,101)\n",
        "x"
      ],
      "metadata": {
        "colab": {
          "base_uri": "https://localhost:8080/"
        },
        "id": "vPQNEnkH2w2z",
        "outputId": "12598738-f34b-412e-dfe6-b70c3e6f880f"
      },
      "execution_count": 62,
      "outputs": [
        {
          "output_type": "execute_result",
          "data": {
            "text/plain": [
              "100"
            ]
          },
          "metadata": {},
          "execution_count": 62
        }
      ]
    },
    {
      "cell_type": "code",
      "source": [
        "arr16 = np.random.randint(10,100,(3,3))\n",
        "print(arr16)"
      ],
      "metadata": {
        "colab": {
          "base_uri": "https://localhost:8080/"
        },
        "id": "43iP7F4Z3Dy6",
        "outputId": "a6337f66-e34e-4964-8be0-c121813dfdfb"
      },
      "execution_count": 63,
      "outputs": [
        {
          "output_type": "stream",
          "name": "stdout",
          "text": [
            "[[77 57 74]\n",
            " [72 75 41]\n",
            " [30 71 81]]\n"
          ]
        }
      ]
    },
    {
      "cell_type": "code",
      "source": [
        "arr17 = np.arange(35,61)\n",
        "print(np.random.choice(arr17))"
      ],
      "metadata": {
        "colab": {
          "base_uri": "https://localhost:8080/"
        },
        "id": "h0vqHjsN3hOI",
        "outputId": "7c0d90b8-b6ff-41b5-ff39-955d5bd46ea1"
      },
      "execution_count": 64,
      "outputs": [
        {
          "output_type": "stream",
          "name": "stdout",
          "text": [
            "48\n"
          ]
        }
      ]
    },
    {
      "cell_type": "code",
      "source": [
        "arr18 = np.array([[3,8], [10, 53], [3,53], [10,3], [3,53]])\n",
        "print(arr18)"
      ],
      "metadata": {
        "colab": {
          "base_uri": "https://localhost:8080/"
        },
        "id": "tLoADdWk4iyu",
        "outputId": "53646c07-956e-4e9a-8b95-a12be8d047fc"
      },
      "execution_count": 65,
      "outputs": [
        {
          "output_type": "stream",
          "name": "stdout",
          "text": [
            "[[ 3  8]\n",
            " [10 53]\n",
            " [ 3 53]\n",
            " [10  3]\n",
            " [ 3 53]]\n"
          ]
        }
      ]
    }
  ]
}